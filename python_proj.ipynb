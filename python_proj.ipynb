{
  "nbformat": 4,
  "nbformat_minor": 0,
  "metadata": {
    "colab": {
      "provenance": [],
      "authorship_tag": "ABX9TyMoMwqvfExHMJ1HLV5RkmnO",
      "include_colab_link": true
    },
    "kernelspec": {
      "name": "python3",
      "display_name": "Python 3"
    },
    "language_info": {
      "name": "python"
    }
  },
  "cells": [
    {
      "cell_type": "markdown",
      "metadata": {
        "id": "view-in-github",
        "colab_type": "text"
      },
      "source": [
        "<a href=\"https://colab.research.google.com/github/Sungjinwoocult/Google-Colab-repo/blob/main/python_proj.ipynb\" target=\"_parent\"><img src=\"https://colab.research.google.com/assets/colab-badge.svg\" alt=\"Open In Colab\"/></a>"
      ]
    },
    {
      "cell_type": "code",
      "source": [
        "!pip install emoji\n",
        "import emoji"
      ],
      "metadata": {
        "colab": {
          "base_uri": "https://localhost:8080/"
        },
        "id": "rkdfJu5NSxHZ",
        "outputId": "d9afed49-aaee-4ba5-9e08-8934d7ffff43"
      },
      "execution_count": 2,
      "outputs": [
        {
          "output_type": "stream",
          "name": "stdout",
          "text": [
            "Collecting emoji\n",
            "  Downloading emoji-2.14.1-py3-none-any.whl.metadata (5.7 kB)\n",
            "Downloading emoji-2.14.1-py3-none-any.whl (590 kB)\n",
            "\u001b[?25l   \u001b[90m━━━━━━━━━━━━━━━━━━━━━━━━━━━━━━━━━━━━━━━━\u001b[0m \u001b[32m0.0/590.6 kB\u001b[0m \u001b[31m?\u001b[0m eta \u001b[36m-:--:--\u001b[0m\r\u001b[2K   \u001b[91m━━━━━━━━━━━━━━━━━━━━━━━━━━━━━━━━━━━━━\u001b[0m\u001b[90m╺\u001b[0m\u001b[90m━━\u001b[0m \u001b[32m553.0/590.6 kB\u001b[0m \u001b[31m16.9 MB/s\u001b[0m eta \u001b[36m0:00:01\u001b[0m\r\u001b[2K   \u001b[90m━━━━━━━━━━━━━━━━━━━━━━━━━━━━━━━━━━━━━━━━\u001b[0m \u001b[32m590.6/590.6 kB\u001b[0m \u001b[31m12.8 MB/s\u001b[0m eta \u001b[36m0:00:00\u001b[0m\n",
            "\u001b[?25hInstalling collected packages: emoji\n",
            "Successfully installed emoji-2.14.1\n"
          ]
        }
      ]
    },
    {
      "cell_type": "code",
      "source": [
        "import time\n",
        "import datetime\n",
        "# Create class that acts as a countdown\n",
        "def countdown(h,m,s):\n",
        "    # Calculate the total number of seconds\n",
        "    total_seconds = h * 3600 + m * 60 + s\n",
        "    # While loop that checks if total_seconds reaches zero\n",
        "    # If not zero, decrement total time by one second\n",
        "    while total_seconds > 0:\n",
        "        # Timer represents time left on countdown\n",
        "        timer = datetime.timedelta(seconds = total_seconds)\n",
        "\n",
        "        # Prints the time left on the timer\n",
        "        print(timer)\n",
        "        # Delays the program one second\n",
        "        time.sleep(1)\n",
        "        # Reduces total time by one second\n",
        "        total_seconds -= 1\n",
        "    print(\"Bzzzt! Time is up!\")\n",
        "h=0\n",
        "m=0\n",
        "s=8\n",
        "print('countdown is set for 8 seconds!')\n",
        "# Inputs for hours, minutes, seconds on timer\n",
        "#h = input(\"Enter the time in hours: \")\n",
        "#m = input(\"Enter the time in minutes: \")\n",
        "#s = input(\"Enter the time in seconds: \")\n",
        "countdown(int(h),int(m),int(s))"
      ],
      "metadata": {
        "colab": {
          "base_uri": "https://localhost:8080/"
        },
        "id": "t2irhJAxXAUk",
        "outputId": "f52a367a-2da4-4de9-9f0a-68390065a02a"
      },
      "execution_count": 3,
      "outputs": [
        {
          "output_type": "stream",
          "name": "stdout",
          "text": [
            "countdown is set for 8 seconds!\n",
            "0:00:08\n",
            "0:00:07\n",
            "0:00:06\n",
            "0:00:05\n",
            "0:00:04\n",
            "0:00:03\n",
            "0:00:02\n",
            "0:00:01\n",
            "Bzzzt! Time is up!\n"
          ]
        }
      ]
    },
    {
      "cell_type": "code",
      "source": [
        "import time\n",
        "import datetime\n",
        "def countdown(h,m,s):\n",
        "    total_seconds = h * 3600 + m * 60 + s\n",
        "    while total_seconds > 0:\n",
        "        timer = datetime.timedelta(seconds = total_seconds)\n",
        "        print(timer)\n",
        "        time.sleep(1)\n",
        "        total_seconds -= 1\n",
        "    print(\"Bzzzt! Time is up!\")\n",
        "h=0\n",
        "m=0\n",
        "s=8\n",
        "print('countdown is set for 8 seconds!')\n",
        "countdown(int(h),int(m),int(s))"
      ],
      "metadata": {
        "colab": {
          "base_uri": "https://localhost:8080/"
        },
        "id": "fBL3w9j9lMgV",
        "outputId": "d07e689e-90a7-4657-ba2c-6718cea929e4"
      },
      "execution_count": 4,
      "outputs": [
        {
          "output_type": "stream",
          "name": "stdout",
          "text": [
            "countdown is set for 8 seconds!\n",
            "0:00:08\n",
            "0:00:07\n",
            "0:00:06\n",
            "0:00:05\n",
            "0:00:04\n",
            "0:00:03\n",
            "0:00:02\n",
            "0:00:01\n",
            "Bzzzt! Time is up!\n"
          ]
        }
      ]
    },
    {
      "cell_type": "code",
      "source": [
        "import emoji\n",
        "import time\n",
        "import datetime\n",
        "\n",
        "def countdown(h, m, s):\n",
        "    time.sleep(2)\n",
        "    print('Countdown is set for 7 seconds!')\n",
        "    total_seconds = h * 3600 + m * 60 + s\n",
        "    while total_seconds > 0:\n",
        "        timer = datetime.timedelta(seconds=total_seconds)\n",
        "        print(timer)\n",
        "        time.sleep(1)\n",
        "        total_seconds -= 1\n",
        "    print(\"Bzzzt! Time is up!\")\n",
        "    time.sleep(2)\n",
        "\n",
        "def emoji_quiz(emoji_sequence, answer):\n",
        "    print(f\"\\n\\nGuess the word: {emoji_sequence}\\n\")\n",
        "    countdown(0, 0, 7)\n",
        "    print(f\"Answer is {answer}\")\n",
        "\n",
        "questions = [\n",
        "    (\"🧱📃\", \"Wallpaper\"),\n",
        "    (\"🔴🐂\", \"Red Bull\"),\n",
        "    (\"🌳🏠\", \"Tree house\"),\n",
        "    (\"☀️👓\", \"Sunglasses\"),\n",
        "    (\"🌧️🎀\", \"Rainbow\")\n",
        "]\n",
        "\n",
        "print('Welcome to the emoji-knowledge quest! 🥳')\n",
        "for emoji_sequence, answer in questions:\n",
        "    emoji_quiz(emoji_sequence, answer)\n"
      ],
      "metadata": {
        "colab": {
          "base_uri": "https://localhost:8080/"
        },
        "id": "h3k24DJBuyn3",
        "outputId": "4d75b758-9c22-462f-9916-5a1da7abd46b"
      },
      "execution_count": 5,
      "outputs": [
        {
          "output_type": "stream",
          "name": "stdout",
          "text": [
            "Welcome to the emoji-knowledge quest! 🥳\n",
            "\n",
            "\n",
            "Guess the word: 🧱📃\n",
            "\n",
            "Countdown is set for 7 seconds!\n",
            "0:00:07\n",
            "0:00:06\n",
            "0:00:05\n",
            "0:00:04\n",
            "0:00:03\n",
            "0:00:02\n",
            "0:00:01\n",
            "Bzzzt! Time is up!\n",
            "Answer is Wallpaper\n",
            "\n",
            "\n",
            "Guess the word: 🔴🐂\n",
            "\n",
            "Countdown is set for 7 seconds!\n",
            "0:00:07\n",
            "0:00:06\n",
            "0:00:05\n",
            "0:00:04\n",
            "0:00:03\n",
            "0:00:02\n",
            "0:00:01\n",
            "Bzzzt! Time is up!\n",
            "Answer is Red Bull\n",
            "\n",
            "\n",
            "Guess the word: 🌳🏠\n",
            "\n",
            "Countdown is set for 7 seconds!\n",
            "0:00:07\n",
            "0:00:06\n",
            "0:00:05\n",
            "0:00:04\n",
            "0:00:03\n",
            "0:00:02\n",
            "0:00:01\n",
            "Bzzzt! Time is up!\n",
            "Answer is Tree house\n",
            "\n",
            "\n",
            "Guess the word: ☀️👓\n",
            "\n",
            "Countdown is set for 7 seconds!\n",
            "0:00:07\n",
            "0:00:06\n",
            "0:00:05\n",
            "0:00:04\n",
            "0:00:03\n",
            "0:00:02\n",
            "0:00:01\n",
            "Bzzzt! Time is up!\n",
            "Answer is Sunglasses\n",
            "\n",
            "\n",
            "Guess the word: 🌧️🎀\n",
            "\n",
            "Countdown is set for 7 seconds!\n",
            "0:00:07\n",
            "0:00:06\n",
            "0:00:05\n",
            "0:00:04\n",
            "0:00:03\n",
            "0:00:02\n",
            "0:00:01\n",
            "Bzzzt! Time is up!\n",
            "Answer is Rainbow\n"
          ]
        }
      ]
    }
  ]
}